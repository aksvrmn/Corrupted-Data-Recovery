{
 "cells": [
  {
   "cell_type": "markdown",
   "metadata": {},
   "source": [
    "# Corrupted Data Recovery"
   ]
  },
  {
   "cell_type": "markdown",
   "metadata": {},
   "source": [
    "This is a trivial implementation of Corrupted Data Recovery as specified in Recover Corrupted Data in Sensor Networks: A Matrix Completion Solution published in vol 16 of IEEE Transaction On Mobile Computing\n",
    "Link: http://ieeexplore.ieee.org/document/7526433\n",
    "\n",
    "DataSet: http://db.csail.mit.edu/labdata/labdata.html"
   ]
  },
  {
   "cell_type": "markdown",
   "metadata": {},
   "source": [
    "### Imports"
   ]
  },
  {
   "cell_type": "code",
   "execution_count": 20,
   "metadata": {},
   "outputs": [],
   "source": [
    "from  fancyimpute import NuclearNormMinimization, KNN , SoftImpute\n",
    "import numpy as np "
   ]
  },
  {
   "cell_type": "markdown",
   "metadata": {},
   "source": [
    "### Data preprocessing"
   ]
  },
  {
   "cell_type": "code",
   "execution_count": 21,
   "metadata": {},
   "outputs": [
    {
     "name": "stdout",
     "output_type": "stream",
     "text": [
      "2313682\n",
      "2219803\n",
      "[[2.00000e+00 1.00000e+00 1.22153e+02]\n",
      " [3.00000e+00 1.00000e+00 1.99884e+01]\n",
      " [1.10000e+01 1.00000e+00 1.93024e+01]\n",
      " ...\n",
      " [6.24240e+04 5.00000e+00 2.41436e+01]\n",
      " [6.24260e+04 5.00000e+00 2.41240e+01]\n",
      " [6.24270e+04 5.00000e+00 2.41044e+01]]\n"
     ]
    }
   ],
   "source": [
    "a= [[]]\n",
    "file = open(\"data.txt\",\"r\")\n",
    "x = file. readlines()\n",
    "for line in x:             \n",
    "    fields = []\n",
    "    fields = line.split()\n",
    "    a.append(fields)\n",
    "a = a[1:]\n",
    "print(len(a))\n",
    "for i in range(len(a)-1,0,-1):\n",
    "    if(len(a[i])<8):\n",
    "        del a[i]\n",
    "print(len(a))\n",
    "b = np.zeros((len(a),3))\n",
    "for i in range(3):\n",
    "    for j in range(len(a)):\n",
    "        b[j,i] = float(a[j][2+i])\n",
    "\n",
    "print b"
   ]
  },
  {
   "cell_type": "code",
   "execution_count": 22,
   "metadata": {},
   "outputs": [
    {
     "name": "stdout",
     "output_type": "stream",
     "text": [
      "(2219803, 3)\n"
     ]
    }
   ],
   "source": [
    "print(b.shape)"
   ]
  },
  {
   "cell_type": "code",
   "execution_count": 23,
   "metadata": {
    "scrolled": true
   },
   "outputs": [
    {
     "name": "stdout",
     "output_type": "stream",
     "text": [
      "54\n",
      "6549\n",
      "[[nan nan nan ... nan nan nan]\n",
      " [nan nan nan ... nan nan nan]\n",
      " [nan nan nan ... nan nan nan]\n",
      " ...\n",
      " [nan nan nan ... nan nan nan]\n",
      " [nan nan nan ... nan nan nan]\n",
      " [nan nan nan ... nan nan nan]]\n"
     ]
    }
   ],
   "source": [
    "N = int(max(b[:,1]))\n",
    "T = int(max(b[:,0]))\n",
    "T = int(0.10*T)\n",
    "print N\n",
    "print T\n",
    "M = np.empty((N,T))\n",
    "M[:] = np.nan\n",
    "print M"
   ]
  },
  {
   "cell_type": "code",
   "execution_count": 24,
   "metadata": {},
   "outputs": [
    {
     "name": "stdout",
     "output_type": "stream",
     "text": [
      "[[     nan 122.153   19.9884 ...  20.9096      nan      nan]\n",
      " [     nan  89.5488      nan ...  20.9096  20.89        nan]\n",
      " [     nan  20.204  122.153  ...  21.9288      nan  21.9288]\n",
      " ...\n",
      " [     nan      nan  18.3028 ...      nan  20.0276  22.0828]\n",
      " [     nan      nan      nan ...      nan      nan  19.714 ]\n",
      " [     nan 122.016  122.153  ...      nan  19.4984  19.4788]]\n"
     ]
    }
   ],
   "source": [
    "for i in range(len(b)):\n",
    "    if b[i][0]<=T:\n",
    "        M[int(b[i][1])-1][int(b[i][0])-1] = b[i][2]    \n",
    "print M"
   ]
  },
  {
   "cell_type": "code",
   "execution_count": 25,
   "metadata": {
    "scrolled": true
   },
   "outputs": [
    {
     "name": "stdout",
     "output_type": "stream",
     "text": [
      "136829\n"
     ]
    }
   ],
   "source": [
    "import math\n",
    "count = 0\n",
    "for i in range(len(M)):\n",
    "    for x in M[i]:\n",
    "        if math.isnan(x):\n",
    "            count =  count +1\n",
    "print count"
   ]
  },
  {
   "cell_type": "markdown",
   "metadata": {},
   "source": [
    "### Initialization"
   ]
  },
  {
   "cell_type": "markdown",
   "metadata": {},
   "source": [
    "N is the number of sensors.<br>\n",
    "T is the number of Time slots.<br>\n",
    "Y is One Hop Matrix. <br> \n",
    "W is Weight matrix, where Wji represents how strong is the relation ship between Timeslots j and i<br>\n",
    "x_structual_faults is a list representing the row numbers with structral faults<br>\n",
    "y_structural_faults is a list representing the Column numbers with structral faults"
   ]
  },
  {
   "cell_type": "code",
   "execution_count": 26,
   "metadata": {},
   "outputs": [],
   "source": [
    "file = open('connectivity.txt','r')\n",
    "a= [[]]\n",
    "for line in file:\n",
    "    temp = []\n",
    "    temp = line.split()\n",
    "    if len(temp) is 3 and int(temp[0]) > 0 and int(temp[0]) <= 54 and int(temp[1]) > 0 and int(temp[1])<=54: \n",
    "        temp[0] = int(temp[0])\n",
    "        temp[1] = int(temp[1])\n",
    "        if float(temp[2]) > 0.5:\n",
    "            temp[2] = 1\n",
    "        else:\n",
    "            temp[2] = 0\n",
    "        a.append(temp)\n",
    "a = a[1:]\n",
    "a = np.array(a)\n"
   ]
  },
  {
   "cell_type": "code",
   "execution_count": 27,
   "metadata": {},
   "outputs": [
    {
     "name": "stdout",
     "output_type": "stream",
     "text": [
      "[[0. 0. 1. ... 0. 0. 0.]\n",
      " [0. 0. 0. ... 0. 0. 0.]\n",
      " [1. 0. 0. ... 0. 0. 0.]\n",
      " ...\n",
      " [0. 0. 0. ... 0. 0. 1.]\n",
      " [0. 0. 0. ... 1. 0. 1.]\n",
      " [0. 0. 0. ... 1. 1. 0.]]\n",
      "[[0.29147938 0.5266544  0.59554076 ... 0.8901134  0.53913884 0.0418196 ]\n",
      " [0.82544209 0.02420024 0.34462561 ... 0.3041763  0.71631948 0.14223306]\n",
      " [0.28863371 0.52580167 0.42614991 ... 0.34405556 0.58706737 0.12733367]\n",
      " ...\n",
      " [0.6142622  0.90347016 0.26103502 ... 0.47767324 0.80460277 0.48210031]\n",
      " [0.73060208 0.28189131 0.71967627 ... 0.70431693 0.37366273 0.58160473]\n",
      " [0.16472452 0.68781054 0.07804674 ... 0.0291432  0.55388796 0.129807  ]]\n",
      "[15 22 49 27 49]\n",
      "hello\n",
      "[1900 1835 1827 1217  448]\n"
     ]
    }
   ],
   "source": [
    "'''\n",
    "N is the number of sensors.\n",
    "T is the number of Time slots\n",
    "M is the sansory Matrix \n",
    "Y is One Hop Matrix \n",
    "w is weight matrix\n",
    "x_structual_faults is a list representing the row numbers with structral faults\n",
    "y_structural_faults is a list representing the Column numbers with structral faults\n",
    "Y is one hop matrix\n",
    "w is weight matrix\n",
    "'''\n",
    "Y = np.zeros((N,N))\n",
    "for x in a:\n",
    "    Y[x[0]-1][x[1]-1] = x[2]\n",
    "print Y\n",
    "w = np.empty((T,T))\n",
    "#w = np.array([[1,2,3,4,5],[1,5,7,6,3],[1,8,6,2,9],[7,4,2,6,8],[3,4,2,8,1]])\n",
    "w = np.random.rand(T,T)\n",
    "print w\n",
    "x_structural_faults = np.random.randint(1,N-1,size = 5)\n",
    "print x_structural_faults\n",
    "x_structural_faults= -np.sort(-x_structural_faults)\n",
    "y_structural_faults =  np.random.randint(1,T-1,size = 5)\n",
    "print 'hello'\n",
    "y_structural_faults = -np.sort(-y_structural_faults)\n",
    "print y_structural_faults"
   ]
  },
  {
   "cell_type": "markdown",
   "metadata": {},
   "source": [
    "### First Phase "
   ]
  },
  {
   "cell_type": "markdown",
   "metadata": {},
   "source": [
    "#### Step 1 : Removing of rows and columns with Structural Faults "
   ]
  },
  {
   "cell_type": "code",
   "execution_count": 28,
   "metadata": {},
   "outputs": [
    {
     "name": "stdout",
     "output_type": "stream",
     "text": [
      "orignal M shape\n",
      "(54, 6549)\n",
      "M without structural faults shape\n",
      "(49, 6544)\n"
     ]
    }
   ],
   "source": [
    "M_old = M\n",
    "for i in x_structural_faults:\n",
    "    M = np.delete(M, (i), axis=0)\n",
    "for i in y_structural_faults:\n",
    "    M = np.delete(M, (i), axis=1)\n",
    "print \"orignal M shape\"\n",
    "print M_old.shape\n",
    "print \"M without structural faults shape\"\n",
    "print M.shape"
   ]
  },
  {
   "cell_type": "markdown",
   "metadata": {},
   "source": [
    "#### Step 2 : Removing of Empty cells "
   ]
  },
  {
   "cell_type": "code",
   "execution_count": 29,
   "metadata": {},
   "outputs": [
    {
     "name": "stdout",
     "output_type": "stream",
     "text": [
      "[SoftImpute] Max Singular Value of X_init = 13404.219757\n",
      "[SoftImpute] Iter 1: observed MAE=2.403761 rank=49\n",
      "[SoftImpute] Iter 2: observed MAE=2.397293 rank=49\n",
      "[SoftImpute] Iter 3: observed MAE=2.377285 rank=48\n",
      "[SoftImpute] Iter 4: observed MAE=2.349452 rank=48\n",
      "[SoftImpute] Iter 5: observed MAE=2.323554 rank=47\n",
      "[SoftImpute] Iter 6: observed MAE=2.295661 rank=46\n",
      "[SoftImpute] Iter 7: observed MAE=2.271014 rank=46\n",
      "[SoftImpute] Iter 8: observed MAE=2.250031 rank=46\n",
      "[SoftImpute] Iter 9: observed MAE=2.231102 rank=46\n",
      "[SoftImpute] Iter 10: observed MAE=2.213772 rank=46\n",
      "[SoftImpute] Iter 11: observed MAE=2.197916 rank=46\n",
      "[SoftImpute] Iter 12: observed MAE=2.183401 rank=46\n",
      "[SoftImpute] Iter 13: observed MAE=2.170213 rank=46\n",
      "[SoftImpute] Iter 14: observed MAE=2.158300 rank=46\n",
      "[SoftImpute] Iter 15: observed MAE=2.147601 rank=46\n",
      "[SoftImpute] Iter 16: observed MAE=2.138029 rank=46\n",
      "[SoftImpute] Iter 17: observed MAE=2.129511 rank=46\n",
      "[SoftImpute] Iter 18: observed MAE=2.121944 rank=46\n",
      "[SoftImpute] Iter 19: observed MAE=2.115245 rank=46\n",
      "[SoftImpute] Iter 20: observed MAE=2.109325 rank=46\n",
      "[SoftImpute] Iter 21: observed MAE=2.104101 rank=46\n",
      "[SoftImpute] Iter 22: observed MAE=2.099486 rank=46\n",
      "[SoftImpute] Iter 23: observed MAE=2.095416 rank=46\n",
      "[SoftImpute] Iter 24: observed MAE=2.091817 rank=46\n",
      "[SoftImpute] Iter 25: observed MAE=2.088635 rank=46\n",
      "[SoftImpute] Iter 26: observed MAE=2.085824 rank=46\n",
      "[SoftImpute] Iter 27: observed MAE=2.083332 rank=46\n",
      "[SoftImpute] Iter 28: observed MAE=2.081123 rank=46\n",
      "[SoftImpute] Iter 29: observed MAE=2.079158 rank=46\n",
      "[SoftImpute] Iter 30: observed MAE=2.077411 rank=46\n",
      "[SoftImpute] Iter 31: observed MAE=2.075852 rank=46\n",
      "[SoftImpute] Iter 32: observed MAE=2.074461 rank=46\n",
      "[SoftImpute] Iter 33: observed MAE=2.073217 rank=46\n",
      "[SoftImpute] Iter 34: observed MAE=2.072104 rank=46\n",
      "[SoftImpute] Iter 35: observed MAE=2.071101 rank=45\n",
      "[SoftImpute] Iter 36: observed MAE=2.070202 rank=45\n",
      "[SoftImpute] Iter 37: observed MAE=2.069397 rank=45\n",
      "[SoftImpute] Iter 38: observed MAE=2.068676 rank=45\n",
      "[SoftImpute] Iter 39: observed MAE=2.068028 rank=45\n",
      "[SoftImpute] Iter 40: observed MAE=2.067446 rank=45\n",
      "[SoftImpute] Iter 41: observed MAE=2.066922 rank=45\n",
      "[SoftImpute] Iter 42: observed MAE=2.066449 rank=45\n",
      "[SoftImpute] Iter 43: observed MAE=2.066021 rank=45\n",
      "[SoftImpute] Iter 44: observed MAE=2.065634 rank=45\n",
      "[SoftImpute] Iter 45: observed MAE=2.065283 rank=45\n",
      "[SoftImpute] Iter 46: observed MAE=2.064965 rank=45\n",
      "[SoftImpute] Iter 47: observed MAE=2.064676 rank=45\n",
      "[SoftImpute] Iter 48: observed MAE=2.064414 rank=45\n",
      "[SoftImpute] Iter 49: observed MAE=2.064175 rank=45\n",
      "[SoftImpute] Iter 50: observed MAE=2.063958 rank=45\n",
      "[SoftImpute] Stopped after iteration 50 for lambda=268.084395\n"
     ]
    }
   ],
   "source": [
    "'''\n",
    "Removes the empty cells represented by NaNs(Null Values)\n",
    "'''\n",
    "#M = NuclearNormMinimization().complete(M)\n",
    "#M = KNN(k=3).complete(M)\n",
    "M =  SoftImpute().complete(M)"
   ]
  },
  {
   "cell_type": "markdown",
   "metadata": {},
   "source": [
    "#### Step 3 : Updating the original Sensory Matrix "
   ]
  },
  {
   "cell_type": "code",
   "execution_count": 30,
   "metadata": {},
   "outputs": [
    {
     "name": "stdout",
     "output_type": "stream",
     "text": [
      "(49, 6544)\n",
      "[[ 20.98807397 122.153       19.9884     ...  20.9096      17.83251378\n",
      "   17.54036854]\n",
      " [ 12.57807911  89.5488      29.54739866 ...  20.9096      20.89\n",
      "   18.13904648]\n",
      " [ 18.62212417  20.204      122.153      ...  21.9288      18.12322858\n",
      "   21.9288    ]\n",
      " ...\n",
      " [ 13.97419419  33.14470172  18.3028     ...  16.13006729  20.0276\n",
      "   22.0828    ]\n",
      " [ 18.04571103  30.16374397  28.98459688 ...  15.26862217  15.52329115\n",
      "   19.714     ]\n",
      " [ 18.23895245 122.016      122.153      ...  16.02093506  19.4984\n",
      "   19.4788    ]]\n"
     ]
    }
   ],
   "source": [
    "print M.shape\n",
    "print M"
   ]
  },
  {
   "cell_type": "code",
   "execution_count": 31,
   "metadata": {},
   "outputs": [
    {
     "name": "stdout",
     "output_type": "stream",
     "text": [
      "[[ 20.98807397 122.153       19.9884     ...  20.9096      17.83251378\n",
      "   17.54036854]\n",
      " [ 12.57807911  89.5488      29.54739866 ...  20.9096      20.89\n",
      "   18.13904648]\n",
      " [ 18.62212417  20.204      122.153      ...  21.9288      18.12322858\n",
      "   21.9288    ]\n",
      " ...\n",
      " [ 18.04571103  30.16374397  28.98459688 ...  15.26862217  15.52329115\n",
      "   19.714     ]\n",
      " [ 18.23895245 122.016      122.153      ...  16.02093506  19.4984\n",
      "   19.4788    ]\n",
      " [         nan 122.016      122.153      ...          nan  19.4984\n",
      "   19.4788    ]]\n"
     ]
    }
   ],
   "source": [
    "'''\n",
    "Updating the orignal Sensory Matrix by the values for empty positions\n",
    "'''\n",
    "i1=j1=0\n",
    "for i in range(N):\n",
    "    for j in range(T):\n",
    "        if i not in x_structural_faults and j not in y_structural_faults and i1 < M.shape[0]:\n",
    "            M_old[i][j] = M[i1][j1]\n",
    "            j1+=1\n",
    "            if j1 == M.shape[1]:\n",
    "                j1=0\n",
    "                i1=i1+1\n",
    "print M_old\n",
    "M = M_old"
   ]
  },
  {
   "cell_type": "markdown",
   "metadata": {},
   "source": [
    "### Second Phase "
   ]
  },
  {
   "cell_type": "markdown",
   "metadata": {},
   "source": [
    "#### Spatial PreInterpolation Function Defination"
   ]
  },
  {
   "cell_type": "code",
   "execution_count": 13,
   "metadata": {},
   "outputs": [],
   "source": [
    "def spatial_pre_interpolation():\n",
    "    '''Step 1'''\n",
    "    '''H is spatial constraint matrix'''\n",
    "    H = np.ones((N))\n",
    "    H = np.diag(H)\n",
    "    print H\n",
    "    '''step 2'''\n",
    "    for x in x_structural_faults:\n",
    "        H[x] = Y[x]\n",
    "    print \"after replacing rows\"\n",
    "    print H\n",
    "    '''step 3'''    \n",
    "    if len(x_structural_faults) > 1:\n",
    "        for x in x_structural_faults:\n",
    "            H[:,x] = np.zeros(N)\n",
    "    print \"after making columns to zero\"\n",
    "    print H    \n",
    "    '''Step 4'''\n",
    "    for i in range(N):\n",
    "        sum = 0\n",
    "        for j in H[i]:\n",
    "            sum += j\n",
    "        H[i]  = H[i]/sum\n",
    "    print \"after normalizing rows\"\n",
    "    print H\n",
    "    ''' HXM has to be done next and return M'''\n",
    "    for i in x_structural_faults:\n",
    "        M[i,:] = (M[i-1,:]+M[i+1,:])/2\n",
    "    return M"
   ]
  },
  {
   "cell_type": "markdown",
   "metadata": {},
   "source": [
    "#### Temporal PreInterpolation Function Defination"
   ]
  },
  {
   "cell_type": "code",
   "execution_count": 14,
   "metadata": {},
   "outputs": [],
   "source": [
    "def temporal_pre_interpolation():\n",
    "    '''step 1'''\n",
    "    G = np.ones((T))\n",
    "    G = np.diag(G)\n",
    "    print G\n",
    "    '''Step 2'''\n",
    "    for i in y_structural_faults:\n",
    "        G[:,i] = np.zeros(T)\n",
    "        G[:,i] = w[:,i]        \n",
    "    print \"after replacing columns\"\n",
    "    print G\n",
    "    '''Step 3'''    \n",
    "    if len(y_structural_faults) > 1:\n",
    "        for x in y_structural_faults:\n",
    "            G[x] = np.zeros(T)\n",
    "    print \"after making rows to zero\"\n",
    "    print G\n",
    "    ''' Step 4'''    \n",
    "    for i in range(T):\n",
    "        sum = 0\n",
    "        for j in G[:,i]:\n",
    "            sum += j\n",
    "        G[:,i]  = G[:,i]/sum\n",
    "    print \"after normalizing rows\"\n",
    "    print G\n",
    "    '''MXG has to be done next and return M'''\n",
    "    for i in y_structural_faults:\n",
    "        M[:,i] = (M[:,i-1]+M[:,i+1])/2\n",
    "    return M"
   ]
  },
  {
   "cell_type": "markdown",
   "metadata": {},
   "source": [
    "#### Step 1: Spatial pre-interpolation,\n",
    "where the row data with structure faults are replaced with\n",
    "the datA from neighboring sensors,<br> taking advantage of spatial\n",
    "correlation"
   ]
  },
  {
   "cell_type": "code",
   "execution_count": 15,
   "metadata": {},
   "outputs": [
    {
     "name": "stdout",
     "output_type": "stream",
     "text": [
      "[[1. 0. 0. ... 0. 0. 0.]\n",
      " [0. 1. 0. ... 0. 0. 0.]\n",
      " [0. 0. 1. ... 0. 0. 0.]\n",
      " ...\n",
      " [0. 0. 0. ... 1. 0. 0.]\n",
      " [0. 0. 0. ... 0. 1. 0.]\n",
      " [0. 0. 0. ... 0. 0. 1.]]\n",
      "after replacing rows\n",
      "[[1. 0. 0. ... 0. 0. 0.]\n",
      " [0. 1. 0. ... 0. 0. 0.]\n",
      " [0. 0. 1. ... 0. 0. 0.]\n",
      " ...\n",
      " [0. 0. 0. ... 1. 0. 0.]\n",
      " [0. 0. 0. ... 0. 1. 0.]\n",
      " [0. 0. 0. ... 0. 0. 1.]]\n",
      "after making columns to zero\n",
      "[[1. 0. 0. ... 0. 0. 0.]\n",
      " [0. 1. 0. ... 0. 0. 0.]\n",
      " [0. 0. 1. ... 0. 0. 0.]\n",
      " ...\n",
      " [0. 0. 0. ... 1. 0. 0.]\n",
      " [0. 0. 0. ... 0. 1. 0.]\n",
      " [0. 0. 0. ... 0. 0. 1.]]\n",
      "after normalizing rows\n",
      "[[1. 0. 0. ... 0. 0. 0.]\n",
      " [0. 1. 0. ... 0. 0. 0.]\n",
      " [0. 0. 1. ... 0. 0. 0.]\n",
      " ...\n",
      " [0. 0. 0. ... 1. 0. 0.]\n",
      " [0. 0. 0. ... 0. 1. 0.]\n",
      " [0. 0. 0. ... 0. 0. 1.]]\n"
     ]
    }
   ],
   "source": [
    "M = spatial_pre_interpolation()"
   ]
  },
  {
   "cell_type": "code",
   "execution_count": 16,
   "metadata": {},
   "outputs": [
    {
     "name": "stdout",
     "output_type": "stream",
     "text": [
      "[[21.10787334 12.77494738 19.14062826 ... 17.95       18.93\n",
      "  18.5282    ]\n",
      " [17.7246     18.1628     18.7634     ... 15.23913243 15.70285672\n",
      "   9.24640597]\n",
      " [13.47641144 18.7928     18.2146     ... 13.72366387 14.5869764\n",
      "  16.44718907]\n",
      " ...\n",
      " [17.4306     17.4012     16.9798     ... 20.2236     17.0484\n",
      "  18.9104    ]\n",
      " [15.2452     19.2142     19.126      ... 14.50742559 15.8626\n",
      "  16.6466    ]\n",
      " [15.7254     15.6764     22.7226     ... 22.0828     19.714\n",
      "  19.4788    ]]\n"
     ]
    }
   ],
   "source": [
    "print M"
   ]
  },
  {
   "cell_type": "markdown",
   "metadata": {},
   "source": [
    "#### Step 2: Temporal pre-interpolation,\n",
    "where the column data experiencing structure faults are replaced\n",
    "with the data from adjacent time slots,<br> taking advantage of\n",
    "temporal stability"
   ]
  },
  {
   "cell_type": "code",
   "execution_count": 17,
   "metadata": {},
   "outputs": [
    {
     "name": "stdout",
     "output_type": "stream",
     "text": [
      "[[1. 0. 0. ... 0. 0. 0.]\n",
      " [0. 1. 0. ... 0. 0. 0.]\n",
      " [0. 0. 1. ... 0. 0. 0.]\n",
      " ...\n",
      " [0. 0. 0. ... 1. 0. 0.]\n",
      " [0. 0. 0. ... 0. 1. 0.]\n",
      " [0. 0. 0. ... 0. 0. 1.]]\n",
      "after replacing columns\n",
      "[[1. 0. 0. ... 0. 0. 0.]\n",
      " [0. 1. 0. ... 0. 0. 0.]\n",
      " [0. 0. 1. ... 0. 0. 0.]\n",
      " ...\n",
      " [0. 0. 0. ... 1. 0. 0.]\n",
      " [0. 0. 0. ... 0. 1. 0.]\n",
      " [0. 0. 0. ... 0. 0. 1.]]\n",
      "after making rows to zero\n",
      "[[1. 0. 0. ... 0. 0. 0.]\n",
      " [0. 1. 0. ... 0. 0. 0.]\n",
      " [0. 0. 1. ... 0. 0. 0.]\n",
      " ...\n",
      " [0. 0. 0. ... 1. 0. 0.]\n",
      " [0. 0. 0. ... 0. 1. 0.]\n",
      " [0. 0. 0. ... 0. 0. 1.]]\n",
      "after normalizing rows\n",
      "[[1. 0. 0. ... 0. 0. 0.]\n",
      " [0. 1. 0. ... 0. 0. 0.]\n",
      " [0. 0. 1. ... 0. 0. 0.]\n",
      " ...\n",
      " [0. 0. 0. ... 1. 0. 0.]\n",
      " [0. 0. 0. ... 0. 1. 0.]\n",
      " [0. 0. 0. ... 0. 0. 1.]]\n"
     ]
    }
   ],
   "source": [
    "M = temporal_pre_interpolation()"
   ]
  },
  {
   "cell_type": "markdown",
   "metadata": {},
   "source": [
    "#### Step 3: Matrix re-processing,\n",
    "where matrix completion is applied to recover the original\n",
    "data matrix X<sub>N×T</sub> from the matrix<br> obtained following above\n",
    "two procedures, exploiting both spatial correlation and temporal\n",
    "stability."
   ]
  },
  {
   "cell_type": "code",
   "execution_count": 18,
   "metadata": {},
   "outputs": [],
   "source": [
    "#M = NuclearNormMinimization().complete(M)\n",
    "#M = KNN(k=3).complete(M)\n",
    "if np.isnan(np.min(M)):\n",
    "    M =  SoftImpute().complete(M)"
   ]
  },
  {
   "cell_type": "code",
   "execution_count": 19,
   "metadata": {},
   "outputs": [
    {
     "name": "stdout",
     "output_type": "stream",
     "text": [
      "[[21.10787334 12.77494738 19.14062826 ... 17.95       18.93\n",
      "  18.5282    ]\n",
      " [17.7246     18.1628     18.7634     ... 15.23913243 15.70285672\n",
      "   9.24640597]\n",
      " [13.47641144 18.7928     18.2146     ... 13.72366387 14.5869764\n",
      "  16.44718907]\n",
      " ...\n",
      " [17.4306     17.4012     16.9798     ... 20.2236     17.0484\n",
      "  18.9104    ]\n",
      " [15.2452     19.2142     19.126      ... 14.50742559 15.8626\n",
      "  16.6466    ]\n",
      " [15.7254     15.6764     22.7226     ... 22.0828     19.714\n",
      "  19.4788    ]]\n"
     ]
    }
   ],
   "source": [
    "print M"
   ]
  },
  {
   "cell_type": "markdown",
   "metadata": {},
   "source": [
    "#### Author: Akash Kumar Verman"
   ]
  }
 ],
 "metadata": {
  "kernelspec": {
   "display_name": "Python 2",
   "language": "python",
   "name": "python2"
  },
  "language_info": {
   "codemirror_mode": {
    "name": "ipython",
    "version": 2
   },
   "file_extension": ".py",
   "mimetype": "text/x-python",
   "name": "python",
   "nbconvert_exporter": "python",
   "pygments_lexer": "ipython2",
   "version": "2.7.12"
  }
 },
 "nbformat": 4,
 "nbformat_minor": 2
}
